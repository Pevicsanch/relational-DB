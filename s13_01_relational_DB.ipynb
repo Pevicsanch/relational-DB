{
 "cells": [
  {
   "cell_type": "markdown",
   "id": "857001a9",
   "metadata": {},
   "source": [
    "$~$\n",
    "\n",
    "# IT Academy - Data Science Itinerary\n",
    "\n",
    "\n",
    "\n",
    "$~$"
   ]
  },
  {
   "cell_type": "markdown",
   "id": "ad6e86cc",
   "metadata": {},
   "source": [
    "## S13 T01: SQL basics\n",
    "___\n"
   ]
  },
  {
   "cell_type": "markdown",
   "id": "7557656a",
   "metadata": {},
   "source": [
    "$~$\n",
    "___\n",
    "####  Exercise 1\n",
    "\n",
    "$~$\n",
    "\n",
    "Create relation database, design it to contain the following tables, and establish the relationships you consider necessary between them: \n",
    "$~$\n",
    "\n",
    "+ table of transactions\n",
    "+ table of enterprises\n",
    "+ table of employees\n",
    "+ table of clients\n",
    "+ table of products\n",
    "+ table of types of products\n",
    "\n",
    "\n",
    "$~$\n",
    "\n",
    "Define the properties of the relationships (1:1, 1:n, n:n), and create some of the variables they might contain, for example:\n",
    "\n",
    "$~$\n",
    "Establishments table:\n",
    "+ ID Establishment (unique key)\n",
    "+ Name\n",
    "+ Location\n",
    "+ Area\n",
    "\n",
    "\n",
    "\n",
    "$~$\n",
    "___"
   ]
  },
  {
   "cell_type": "markdown",
   "id": "38c1f928",
   "metadata": {},
   "source": [
    "$~$\n",
    "\n",
    "+ for this part we use this [tool](https://app.diagrams.net/)\n",
    "\n",
    "$~$"
   ]
  },
  {
   "cell_type": "markdown",
   "id": "e6199d47",
   "metadata": {},
   "source": [
    "![Image](./diagram1.png)"
   ]
  },
  {
   "cell_type": "markdown",
   "id": "1d221bb5",
   "metadata": {},
   "source": [
    "+ relations:\n",
    "\n",
    "    + 1:N One enterprise has many employees\n",
    "    + 1:N One enterprise has many products\n",
    "    + 1:N One product has many type of the products\n",
    "    + 1:N One clients make many transaction\n",
    "    + N:M Multiple transactions has multiple products - join table Products/transaccions\n",
    "    \n"
   ]
  },
  {
   "cell_type": "markdown",
   "id": "214112c9",
   "metadata": {},
   "source": [
    "$~$\n",
    "___\n",
    "####  Exercise 2\n",
    "\n",
    "$~$\n",
    "\n",
    "Use an entity-relationship diagram creation program such as http://dia-installer.de to create the diagram.\n",
    "\n",
    "$~$\n",
    "___"
   ]
  },
  {
   "cell_type": "markdown",
   "id": "552e6ab8",
   "metadata": {},
   "source": [
    "$~$\n",
    "\n",
    "+ for this part we use this [tool](https://drawsql.app)"
   ]
  },
  {
   "cell_type": "markdown",
   "id": "87ec2be7",
   "metadata": {},
   "source": [
    "![Image](./diagram2.png)"
   ]
  },
  {
   "cell_type": "markdown",
   "id": "d7caa1ff",
   "metadata": {},
   "source": [
    "$~$\n",
    "___\n",
    "####  Exercise 3\n",
    "\n",
    "$~$\n",
    "\n",
    "\n",
    "Use the MySQL Workbench to create a relational model\n",
    "\n",
    "\n",
    "$~$\n",
    "___"
   ]
  },
  {
   "cell_type": "markdown",
   "id": "cf95c823",
   "metadata": {},
   "source": [
    "![Image](./diagram3.png)"
   ]
  },
  {
   "cell_type": "markdown",
   "id": "00561b04",
   "metadata": {},
   "source": [
    "$~$\n",
    "\n",
    "+ in the next cell is the schema from which the diagram comes:\n",
    "\n",
    "$~$"
   ]
  },
  {
   "cell_type": "code",
   "execution_count": null,
   "id": "dca1eb0c",
   "metadata": {
    "vscode": {
     "languageId": "sql"
    }
   },
   "outputs": [],
   "source": [
    "DROP DATABASE IF EXISTS exer1;\n",
    "CREATE DATABASE exer1;\n",
    "USE exer1;\n",
    "\n",
    "CREATE TABLE `Employees`(\n",
    "    `id_employees` INT UNSIGNED NOT NULL AUTO_INCREMENT PRIMARY KEY,\n",
    "    `name` VARCHAR(255) NOT NULL,\n",
    "    `surname` VARCHAR(255) NOT NULL,\n",
    "    `D`.`N`.`I` VARCHAR(255) NOT NULL,\n",
    "    `salary` DOUBLE(8, 2) NOT NULL,\n",
    "    `rol` VARCHAR(255) NOT NULL,\n",
    "    `telephone number` VARCHAR(255) NOT NULL,\n",
    "    `id_enterprises` INT NOT NULL\n",
    ");\n",
    "CREATE TABLE `Enterprises`(\n",
    "    `id_enterprises` INT UNSIGNED NOT NULL AUTO_INCREMENT PRIMARY KEY,\n",
    "    `name` VARCHAR(255) NOT NULL,\n",
    "    `location` VARCHAR(255) NOT NULL,\n",
    "    `area` DOUBLE(8, 2) NOT NULL\n",
    ");\n",
    "CREATE TABLE `clients`(\n",
    "    `id_client` INT UNSIGNED NOT NULL AUTO_INCREMENT PRIMARY KEY,\n",
    "    `name` VARCHAR(255) NOT NULL,\n",
    "    `surname` VARCHAR(255) NOT NULL,\n",
    "    `telephone num` VARCHAR(255) NOT NULL,\n",
    "    `email` VARCHAR(255) NOT NULL\n",
    ");\n",
    "CREATE TABLE `transaction`(\n",
    "    `id_transaction` INT UNSIGNED NOT NULL AUTO_INCREMENT PRIMARY KEY,\n",
    "    `datatime` DATETIME NOT NULL,\n",
    "    `id_cliente` INT NOT NULL,\n",
    "    `total` DOUBLE(8, 2) NOT NULL\n",
    ");\n",
    "CREATE TABLE `transacion_products`(\n",
    "    `id_trasaccion_prod` INT UNSIGNED NOT NULL AUTO_INCREMENT PRIMARY KEY,\n",
    "    `id_product` INT NOT NULL,\n",
    "    `id_transaction` INT NOT NULL,\n",
    "    `price` DOUBLE(8, 2) NOT NULL,\n",
    "    `quantity` INT NOT NULL\n",
    ");\n",
    "CREATE TABLE `products`(\n",
    "    `id_products` INT UNSIGNED NOT NULL AUTO_INCREMENT PRIMARY KEY,\n",
    "    `title` VARCHAR(255) NOT NULL,\n",
    "    `price` DOUBLE(8, 2) NOT NULL,\n",
    "    `id_type_products` INT NOT NULL,\n",
    "    `id_enterprises` INT NOT NULL\n",
    ");\n",
    "CREATE TABLE `type_products`(\n",
    "    `id_type_products` INT UNSIGNED NOT NULL AUTO_INCREMENT PRIMARY KEY,\n",
    "    `description` VARCHAR(255) NOT NULL,\n",
    "    `reference` VARCHAR(255) NOT NULL\n",
    ");\n",
    "ALTER TABLE\n",
    "    `Employees` ADD CONSTRAINT `employees_id_enterprises_foreign` FOREIGN KEY(`id_enterprises`) REFERENCES `Enterprises`(`id_enterprises`);\n",
    "ALTER TABLE\n",
    "    `products` ADD CONSTRAINT `products_id_enterprises_foreign` FOREIGN KEY(`id_enterprises`) REFERENCES `Enterprises`(`id_enterprises`);\n",
    "ALTER TABLE\n",
    "    `transaction` ADD CONSTRAINT `transaction_id_cliente_foreign` FOREIGN KEY(`id_cliente`) REFERENCES `clients`(`id_client`);\n",
    "ALTER TABLE\n",
    "    `transacion_products` ADD CONSTRAINT `transacion_products_id_transaction_foreign` FOREIGN KEY(`id_transaction`) REFERENCES `transaction`(`id_transaction`);\n",
    "ALTER TABLE\n",
    "    `products` ADD CONSTRAINT `products_id_type_products_foreign` FOREIGN KEY(`id_type_products`) REFERENCES `type_products`(`id_type_products`);\n",
    "ALTER TABLE\n",
    "    `transacion_products` ADD CONSTRAINT `transacion_products_id_product_foreign` FOREIGN KEY(`id_product`) REFERENCES `products`(`id_products`);"
   ]
  }
 ],
 "metadata": {
  "kernelspec": {
   "display_name": "Python 3 (ipykernel)",
   "language": "python",
   "name": "python3"
  },
  "language_info": {
   "codemirror_mode": {
    "name": "ipython",
    "version": 3
   },
   "file_extension": ".py",
   "mimetype": "text/x-python",
   "name": "python",
   "nbconvert_exporter": "python",
   "pygments_lexer": "ipython3",
   "version": "3.9.7"
  },
  "toc": {
   "base_numbering": 1,
   "nav_menu": {},
   "number_sections": false,
   "sideBar": true,
   "skip_h1_title": false,
   "title_cell": "Table of Contents",
   "title_sidebar": "Contents",
   "toc_cell": false,
   "toc_position": {},
   "toc_section_display": true,
   "toc_window_display": true
  }
 },
 "nbformat": 4,
 "nbformat_minor": 5
}
